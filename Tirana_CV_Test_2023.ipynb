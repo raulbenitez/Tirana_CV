{
  "nbformat": 4,
  "nbformat_minor": 0,
  "metadata": {
    "colab": {
      "provenance": []
    },
    "kernelspec": {
      "name": "python3",
      "display_name": "Python 3"
    },
    "language_info": {
      "name": "python"
    }
  },
  "cells": [
    {
      "cell_type": "markdown",
      "source": [
        "## Computer Vision - Tirana May 2023\n",
        "# Final Evaluation Exercise: Complete the following exercises"
      ],
      "metadata": {
        "id": "DEdtJ88-n29l"
      }
    },
    {
      "cell_type": "markdown",
      "source": [
        "## 1. Load and visualize the 'bricks' image from the skimage built-in datasets. Report the size of the image and range of the pixel grayscale levels. "
      ],
      "metadata": {
        "id": "dhNR1jtln6nT"
      }
    },
    {
      "cell_type": "code",
      "execution_count": null,
      "metadata": {
        "id": "3zCutYypn2d_"
      },
      "outputs": [],
      "source": []
    },
    {
      "cell_type": "markdown",
      "source": [
        "## 2. Represent the histogram of the image. Explain the peaks of the histogram in terms of regions of the image. "
      ],
      "metadata": {
        "id": "EuuFKpLdoBdo"
      }
    },
    {
      "cell_type": "code",
      "source": [],
      "metadata": {
        "id": "wElGS9nCorJm"
      },
      "execution_count": null,
      "outputs": []
    },
    {
      "cell_type": "markdown",
      "source": [
        "## 3. Segment the image using a k-means clustering algorithm with k=2 and represent the result"
      ],
      "metadata": {
        "id": "CTXVPMKoozd_"
      }
    },
    {
      "cell_type": "code",
      "source": [],
      "metadata": {
        "id": "fQSkH12Uo_Ge"
      },
      "execution_count": null,
      "outputs": []
    },
    {
      "cell_type": "markdown",
      "source": [
        "## 4. Label the objects found in the image. Generate a figure with the original image and the labeled image. How many bricks are there in the image? "
      ],
      "metadata": {
        "id": "7GJkDgcfo9HG"
      }
    },
    {
      "cell_type": "code",
      "source": [],
      "metadata": {
        "id": "XPHiu_P8o9Qp"
      },
      "execution_count": null,
      "outputs": []
    },
    {
      "cell_type": "markdown",
      "source": [
        "## 4. Extract the area, major axis length and orientation of each brick. Report the average values of the extracted features. Represent a scatterplot of the area vs major axis length.  "
      ],
      "metadata": {
        "id": "QvNy4xpypTU9"
      }
    },
    {
      "cell_type": "code",
      "source": [],
      "metadata": {
        "id": "acDeqefFppDf"
      },
      "execution_count": null,
      "outputs": []
    },
    {
      "cell_type": "markdown",
      "source": [
        "## 5. Find the bricks that are vertically aligned (consider vertical bricks as the ones with an orientation between -0.05 and 0.05 degrees)."
      ],
      "metadata": {
        "id": "ja0OLk5ippMd"
      }
    },
    {
      "cell_type": "code",
      "source": [],
      "metadata": {
        "id": "KxxbRC7IqUPc"
      },
      "execution_count": null,
      "outputs": []
    },
    {
      "cell_type": "markdown",
      "source": [
        "## 6. Find the bricks that have a length shorter than half the average length of the bricks (short bricks)"
      ],
      "metadata": {
        "id": "Faq0OhrLqU8O"
      }
    },
    {
      "cell_type": "code",
      "source": [],
      "metadata": {
        "id": "_V1LJo3rqjxR"
      },
      "execution_count": null,
      "outputs": []
    },
    {
      "cell_type": "markdown",
      "source": [
        "##7. Generate a 3-panel figure with the original image, the image with the vertical bricks and an image with the short bricks. "
      ],
      "metadata": {
        "id": "rb8KwqUpqj62"
      }
    },
    {
      "cell_type": "code",
      "source": [],
      "metadata": {
        "id": "bDHxSElkq2BJ"
      },
      "execution_count": null,
      "outputs": []
    },
    {
      "cell_type": "markdown",
      "source": [
        "## 8. Apply k-means to the area and orientation features in order to cluster the bricks in three groups. Represent the result and provide an interpretation of the three types of bricks identified by the clustering algorithm. "
      ],
      "metadata": {
        "id": "vDTGV1dHq02E"
      }
    },
    {
      "cell_type": "code",
      "source": [],
      "metadata": {
        "id": "0h7v-Cwir2Il"
      },
      "execution_count": null,
      "outputs": []
    },
    {
      "cell_type": "markdown",
      "source": [
        "## 9. Explain the different levels at which we can apply supervised classification algorithms to image processing"
      ],
      "metadata": {
        "id": "c0xNjuI3xsNr"
      }
    },
    {
      "cell_type": "markdown",
      "source": [],
      "metadata": {
        "id": "4Q1dzqEEx0TC"
      }
    },
    {
      "cell_type": "markdown",
      "source": [
        "## 10. Describe the main steps required to perform  segmentation of an RGB image using an unsupervised clustering algorithm"
      ],
      "metadata": {
        "id": "u2BhPVzwx2Jv"
      }
    },
    {
      "cell_type": "markdown",
      "source": [],
      "metadata": {
        "id": "hPUsIuHEyAoc"
      }
    }
  ]
}